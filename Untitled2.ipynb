{
  "nbformat": 4,
  "nbformat_minor": 0,
  "metadata": {
    "colab": {
      "provenance": []
    },
    "kernelspec": {
      "name": "python3",
      "display_name": "Python 3"
    },
    "language_info": {
      "name": "python"
    }
  },
  "cells": [
    {
      "cell_type": "code",
      "execution_count": 7,
      "metadata": {
        "colab": {
          "base_uri": "https://localhost:8080/"
        },
        "id": "amOI4c-P8_IL",
        "outputId": "3d2b55a6-33c4-4be9-e4ea-99c21254aa6e"
      },
      "outputs": [
        {
          "output_type": "stream",
          "name": "stdout",
          "text": [
            "<class 'str'>\n",
            "<class 'str'>\n"
          ]
        }
      ],
      "source": [
        "a='鄭予涵'\n",
        "b='b1205025'\n",
        "print(type(a))\n",
        "print(type(b))\n",
        "\n"
      ]
    },
    {
      "cell_type": "code",
      "source": [
        "list=('鄭予涵','b1205025')\n",
        "print(list)"
      ],
      "metadata": {
        "colab": {
          "base_uri": "https://localhost:8080/"
        },
        "id": "PScTqjsK-3AT",
        "outputId": "0e84c7b2-e75e-43c6-d273-d45b72ba843c"
      },
      "execution_count": 10,
      "outputs": [
        {
          "output_type": "stream",
          "name": "stdout",
          "text": [
            "('鄭予涵', 'b1205025')\n"
          ]
        }
      ]
    }
  ]
}