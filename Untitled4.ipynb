{
  "nbformat": 4,
  "nbformat_minor": 0,
  "metadata": {
    "colab": {
      "provenance": []
    },
    "kernelspec": {
      "name": "python3",
      "display_name": "Python 3"
    },
    "language_info": {
      "name": "python"
    }
  },
  "cells": [
    {
      "cell_type": "code",
      "execution_count": null,
      "metadata": {
        "colab": {
          "base_uri": "https://localhost:8080/"
        },
        "id": "pab1Y9_9CkxB",
        "outputId": "e3b6c1c0-d6ac-4e0a-f84e-2b73e8fc7aeb"
      },
      "outputs": [
        {
          "output_type": "stream",
          "name": "stdout",
          "text": [
            "\n",
            "您想查詢什麼？(藥方名稱/出典/處方/效能/適應症/退出查詢)：藥方名稱\n",
            "柴葛解肌湯\n",
            "\n",
            "您想查詢什麼？(藥方名稱/出典/處方/效能/適應症/退出查詢)：出典\n",
            "柴葛解肌湯的出典為:中國醫學大辭典\n",
            "\n",
            "您想查詢什麼？(藥方名稱/出典/處方/效能/適應症/退出查詢)：處方\n",
            "柴葛解肌湯的處方為:\n",
            "柴胡：2.5公克\n",
            "葛根：2.5公克\n",
            "羌活：2.5公克\n",
            "白芷：2.5公克\n",
            "黃芩：2.5公克\n",
            "白芍：2.5公克\n",
            "桔梗：2.5公克\n",
            "甘草：1.5公克\n",
            "石膏：2.5公克\n",
            "生薑：2公克\n",
            "大棗：2公克\n",
            "總克數為：25.5公克\n",
            "\n",
            "您想查詢什麼？(藥方名稱/出典/處方/效能/適應症/退出查詢)：效能\n",
            "柴葛解肌湯的效能是:解肌清熱\n",
            "\n",
            "您想查詢什麼？(藥方名稱/出典/處方/效能/適應症/退出查詢)：適應正\n",
            "輸入無效，請重新輸入。\n",
            "\n",
            "您想查詢什麼？(藥方名稱/出典/處方/效能/適應症/退出查詢)：是應症\n",
            "輸入無效，請重新輸入。\n",
            "\n",
            "您想查詢什麼？(藥方名稱/出典/處方/效能/適應症/退出查詢)：適應症\n",
            "柴葛解肌湯的適應症有:\n",
            "頭痛發熱\n",
            "心煩不眠\n",
            "眶痛鼻燥\n",
            "嗌乾耳聾\n",
            "惡寒無汗\n"
          ]
        }
      ],
      "source": [
        "# 定義柴葛解肌湯的資料\n",
        "prescription = {\n",
        "    '名稱': '柴葛解肌湯',\n",
        "    '出典': '中國醫學大辭典',\n",
        "    '處方': {\n",
        "        '柴胡': 2.5,  # 公克\n",
        "        '葛根':  2.5,\n",
        "        '羌活': 2.5,\n",
        "        '白芷': 2.5,\n",
        "        '黃芩': 2.5,\n",
        "        '白芍': 2.5,\n",
        "        '桔梗': 2.5,\n",
        "        '甘草': 1.5,\n",
        "        '石膏': 2.5,\n",
        "        '生薑': 2,\n",
        "        '大棗': 2\n",
        "\n",
        "    },\n",
        "    '效能': '解肌清熱',\n",
        "    '適應症': ['頭痛發熱', '心煩不眠', '眶痛鼻燥', '嗌乾耳聾', '惡寒無汗']\n",
        "}\n",
        "\n",
        "# 使用 while 迴圈提供查詢服務\n",
        "while True:\n",
        "    query = input(\"\\n您想查詢什麼？(藥方名稱/出典/處方/效能/適應症/退出查詢)：\")\n",
        "\n",
        "    if query == \"藥方名稱\":\n",
        "        print(f\"{prescription['名稱']}\")\n",
        "    elif query == \"出典\":\n",
        "        print(f\"{prescription['名稱']}的出典為:{prescription['出典']}\")\n",
        "    elif query == \"適應症\":\n",
        "        print(f\"{prescription['名稱']}的適應症有:\")\n",
        "        for symptom in prescription['適應症']:\n",
        "            print(symptom)\n",
        "    elif query == \"處方\":\n",
        "        total_weight = sum(prescription['處方'].values())\n",
        "        print(f\"{prescription['名稱']}的處方為:\")\n",
        "        for medicine, weight in prescription['處方'].items():\n",
        "            print(f\"{medicine}：{weight}公克\")\n",
        "        print(f\"總克數為：{total_weight}公克\")\n",
        "    elif query == \"效能\":\n",
        "        print(f\"{prescription['名稱']}的效能是:{prescription['效能']}\")\n",
        "    elif query == \"退出查詢\":\n",
        "        print(\"感謝使用，再見！\")\n",
        "        break\n",
        "    else:\n",
        "        print(\"輸入無效，請重新輸入。\")"
      ]
    }
  ]
}