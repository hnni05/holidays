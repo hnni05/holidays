{
  "nbformat": 4,
  "nbformat_minor": 0,
  "metadata": {
    "colab": {
      "provenance": []
    },
    "kernelspec": {
      "name": "python3",
      "display_name": "Python 3"
    },
    "language_info": {
      "name": "python"
    }
  },
  "cells": [
    {
      "cell_type": "code",
      "execution_count": 5,
      "metadata": {
        "colab": {
          "base_uri": "https://localhost:8080/"
        },
        "id": "sxYPRMMPAxXz",
        "outputId": "b897b5f9-f917-46ad-ccef-b11b86f52c2e"
      },
      "outputs": [
        {
          "output_type": "stream",
          "name": "stdout",
          "text": [
            "請輸入一個範圍3\n",
            "1 x 1 = 1\n",
            "1 x 2 = 2\n",
            "1 x 3 = 3\n",
            "2 x 1 = 2\n",
            "2 x 2 = 4\n",
            "2 x 3 = 6\n",
            "3 x 1 = 3\n",
            "3 x 2 = 6\n",
            "3 x 3 = 9\n"
          ]
        }
      ],
      "source": [
        "number = int (input(\"請輸入一個範圍\"))\n",
        "for i in range(1, number+1):\n",
        "  for j in range (1, number+1):\n",
        "    print(f\"{i} x {j} = {i*j}\")\n",
        "\n",
        "\n",
        "\n",
        "\n",
        "\n"
      ]
    },
    {
      "cell_type": "code",
      "source": [
        "import random\n",
        "target_number = random.randint (1, 100)\n",
        "print(\"歡迎參加猜數字遊戲\")\n",
        "ans = 0\n",
        "while ans == 0:\n",
        "  guess = int(input(\"請輸入一個數字\"))\n",
        "  if guess > target_number:\n",
        "    print(\"太高了\")\n",
        "  elif guess < target_number:\n",
        "    print(\"太低了\")\n",
        "  else:\n",
        "    print(f\"guess right! the answer is {target_number}\")\n",
        "    ans = 1\n",
        "print(\"game over\")\n",
        ""
      ],
      "metadata": {
        "colab": {
          "base_uri": "https://localhost:8080/"
        },
        "id": "737JV90gFhLr",
        "outputId": "f903efa5-1647-4523-8893-abf588252b0b"
      },
      "execution_count": 8,
      "outputs": [
        {
          "output_type": "stream",
          "name": "stdout",
          "text": [
            "歡迎參加猜數字遊戲\n",
            "請輸入一個數字5\n",
            "太低了\n",
            "請輸入一個數字2\n",
            "太低了\n",
            "請輸入一個數字10\n",
            "太低了\n",
            "請輸入一個數字20\n",
            "太低了\n",
            "請輸入一個數字30\n",
            "太低了\n",
            "請輸入一個數字40\n",
            "太高了\n",
            "請輸入一個數字35\n",
            "太高了\n",
            "請輸入一個數字33\n",
            "guess right! the answer is 33\n",
            "game over\n"
          ]
        }
      ]
    }
  ]
}